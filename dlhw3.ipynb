{
 "cells": [
  {
   "cell_type": "code",
   "execution_count": 1,
   "metadata": {},
   "outputs": [
    {
     "name": "stderr",
     "output_type": "stream",
     "text": [
      "C:\\Users\\GL62VR\\Anaconda3\\lib\\site-packages\\h5py\\__init__.py:34: FutureWarning: Conversion of the second argument of issubdtype from `float` to `np.floating` is deprecated. In future, it will be treated as `np.float64 == np.dtype(float).type`.\n",
      "  from ._conv import register_converters as _register_converters\n"
     ]
    }
   ],
   "source": [
    "import tensorflow as tf\n",
    "from tensorflow import keras\n",
    "import numpy as np\n",
    "import matplotlib.pyplot as plt\n",
    "from tensorflow.python.keras.utils import np_utils\n",
    "import warnings\n",
    "warnings.filterwarnings('ignore')\n",
    "\n",
    "mnist = keras.datasets.fashion_mnist"
   ]
  },
  {
   "cell_type": "code",
   "execution_count": 2,
   "metadata": {
    "collapsed": true
   },
   "outputs": [],
   "source": [
    "(x_train, label_train), (x_test, label_test) = mnist.load_data()"
   ]
  },
  {
   "cell_type": "markdown",
   "metadata": {},
   "source": [
    "# 1 Autoencoder"
   ]
  },
  {
   "cell_type": "code",
   "execution_count": 3,
   "metadata": {},
   "outputs": [
    {
     "data": {
      "image/png": "[encoded data removed]",
      "text/plain": [
       "<matplotlib.figure.Figure at 0x17a4d562cf8>"
      ]
     },
     "metadata": {},
     "output_type": "display_data"
    }
   ],
   "source": [
    "x_train = x_train.astype('float32')/255\n",
    "x_test = x_test.astype('float32')/255\n",
    "x_train = x_train.reshape(x_train.shape[0], 28, 28, 1)\n",
    "x_test = x_test.reshape(x_test.shape[0], 28, 28, 1)\n",
    "label_train = np_utils.to_categorical(label_train, 10) \n",
    "label_test = np_utils.to_categorical(label_test, 10)\n",
    "plt.imshow(x_train[0, :, :].reshape(28,28))\n",
    "plt.show()"
   ]
  },
  {
   "cell_type": "code",
   "execution_count": 4,
   "metadata": {},
   "outputs": [
    {
     "name": "stdout",
     "output_type": "stream",
     "text": [
      "Train on 60000 samples, validate on 10000 samples\n",
      "Epoch 1/50\n",
      "60000/60000 [==============================] - 12s 194us/step - loss: 45.9371 - val_loss: 40.5816\n",
      "Epoch 2/50\n",
      "60000/60000 [==============================] - 5s 81us/step - loss: 40.3115 - val_loss: 39.3327\n",
      "Epoch 3/50\n",
      "60000/60000 [==============================] - 5s 82us/step - loss: 39.2492 - val_loss: 38.5637\n",
      "Epoch 4/50\n",
      "60000/60000 [==============================] - 5s 81us/step - loss: 38.7203 - val_loss: 38.3042\n",
      "Epoch 5/50\n",
      "60000/60000 [==============================] - 5s 81us/step - loss: 38.3242 - val_loss: 37.8216\n",
      "Epoch 6/50\n",
      "60000/60000 [==============================] - 5s 81us/step - loss: 38.0322 - val_loss: 37.7182\n",
      "Epoch 7/50\n",
      "60000/60000 [==============================] - 5s 81us/step - loss: 37.7845 - val_loss: 37.5754\n",
      "Epoch 8/50\n",
      "60000/60000 [==============================] - 5s 80us/step - loss: 37.6525 - val_loss: 37.4940\n",
      "Epoch 9/50\n",
      "60000/60000 [==============================] - 5s 81us/step - loss: 37.5484 - val_loss: 37.3379\n",
      "Epoch 10/50\n",
      "60000/60000 [==============================] - 5s 81us/step - loss: 37.4361 - val_loss: 37.1686\n",
      "Epoch 11/50\n",
      "60000/60000 [==============================] - 5s 81us/step - loss: 37.3302 - val_loss: 37.0214\n",
      "Epoch 12/50\n",
      "60000/60000 [==============================] - 5s 81us/step - loss: 37.2444 - val_loss: 37.0515\n",
      "Epoch 13/50\n",
      "60000/60000 [==============================] - 5s 81us/step - loss: 37.1348 - val_loss: 36.9257\n",
      "Epoch 14/50\n",
      "60000/60000 [==============================] - 5s 80us/step - loss: 37.0341 - val_loss: 36.9444\n",
      "Epoch 15/50\n",
      "60000/60000 [==============================] - 5s 81us/step - loss: 36.9996 - val_loss: 36.8493\n",
      "Epoch 16/50\n",
      "60000/60000 [==============================] - 5s 81us/step - loss: 36.9539 - val_loss: 36.8355\n",
      "Epoch 17/50\n",
      "60000/60000 [==============================] - 5s 80us/step - loss: 36.8666 - val_loss: 36.6721\n",
      "Epoch 18/50\n",
      "60000/60000 [==============================] - 5s 80us/step - loss: 36.8327 - val_loss: 36.6871\n",
      "Epoch 19/50\n",
      "60000/60000 [==============================] - 5s 81us/step - loss: 36.7453 - val_loss: 36.5403\n",
      "Epoch 20/50\n",
      "60000/60000 [==============================] - 5s 80us/step - loss: 36.6966 - val_loss: 36.5317\n",
      "Epoch 21/50\n",
      "60000/60000 [==============================] - 5s 80us/step - loss: 36.7063 - val_loss: 36.5041\n",
      "Epoch 22/50\n",
      "60000/60000 [==============================] - 5s 81us/step - loss: 36.6666 - val_loss: 36.4676\n",
      "Epoch 23/50\n",
      "60000/60000 [==============================] - 5s 81us/step - loss: 36.6461 - val_loss: 36.4332\n",
      "Epoch 24/50\n",
      "60000/60000 [==============================] - 5s 81us/step - loss: 36.5920 - val_loss: 36.4792\n",
      "Epoch 25/50\n",
      "60000/60000 [==============================] - 5s 81us/step - loss: 36.5634 - val_loss: 36.6065\n",
      "Epoch 26/50\n",
      "60000/60000 [==============================] - 5s 81us/step - loss: 36.5174 - val_loss: 36.4284\n",
      "Epoch 27/50\n",
      "60000/60000 [==============================] - 5s 81us/step - loss: 36.5154 - val_loss: 36.4141\n",
      "Epoch 28/50\n",
      "60000/60000 [==============================] - 5s 83us/step - loss: 36.4956 - val_loss: 36.3156\n",
      "Epoch 29/50\n",
      "60000/60000 [==============================] - 5s 81us/step - loss: 36.4363 - val_loss: 36.3642\n",
      "Epoch 30/50\n",
      "60000/60000 [==============================] - 5s 81us/step - loss: 36.4372 - val_loss: 36.2923\n",
      "Epoch 31/50\n",
      "60000/60000 [==============================] - 5s 81us/step - loss: 36.4318 - val_loss: 36.2904\n",
      "Epoch 32/50\n",
      "60000/60000 [==============================] - 5s 81us/step - loss: 36.4138 - val_loss: 36.3300\n",
      "Epoch 33/50\n",
      "60000/60000 [==============================] - 5s 80us/step - loss: 36.3793 - val_loss: 36.2735\n",
      "Epoch 34/50\n",
      "60000/60000 [==============================] - 5s 81us/step - loss: 36.2845 - val_loss: 36.2778\n",
      "Epoch 35/50\n",
      "60000/60000 [==============================] - 5s 80us/step - loss: 36.3157 - val_loss: 36.2132\n",
      "Epoch 36/50\n",
      "60000/60000 [==============================] - 5s 81us/step - loss: 36.2924 - val_loss: 36.3186\n",
      "Epoch 37/50\n",
      "60000/60000 [==============================] - 5s 80us/step - loss: 36.3049 - val_loss: 36.1330\n",
      "Epoch 38/50\n",
      "60000/60000 [==============================] - 5s 80us/step - loss: 36.2866 - val_loss: 36.2394\n",
      "Epoch 39/50\n",
      "60000/60000 [==============================] - 5s 81us/step - loss: 36.2677 - val_loss: 36.2687\n",
      "Epoch 40/50\n",
      "60000/60000 [==============================] - 5s 81us/step - loss: 36.2936 - val_loss: 36.1235\n",
      "Epoch 41/50\n",
      "60000/60000 [==============================] - 5s 80us/step - loss: 36.2368 - val_loss: 36.1209\n",
      "Epoch 42/50\n",
      "60000/60000 [==============================] - 5s 81us/step - loss: 36.2473 - val_loss: 36.1206\n",
      "Epoch 43/50\n",
      "60000/60000 [==============================] - 5s 81us/step - loss: 36.2327 - val_loss: 36.2550\n",
      "Epoch 44/50\n",
      "60000/60000 [==============================] - 5s 81us/step - loss: 36.2286 - val_loss: 36.1720\n",
      "Epoch 45/50\n",
      "60000/60000 [==============================] - 5s 81us/step - loss: 36.1969 - val_loss: 36.0822\n",
      "Epoch 46/50\n",
      "60000/60000 [==============================] - 4s 72us/step - loss: 36.1728 - val_loss: 36.3955\n",
      "Epoch 47/50\n",
      "60000/60000 [==============================] - 4s 69us/step - loss: 36.2072 - val_loss: 36.0889\n",
      "Epoch 48/50\n",
      "60000/60000 [==============================] - 5s 82us/step - loss: 36.1903 - val_loss: 36.0078\n",
      "Epoch 49/50\n",
      "60000/60000 [==============================] - 5s 81us/step - loss: 36.1469 - val_loss: 36.0382\n",
      "Epoch 50/50\n",
      "60000/60000 [==============================] - 5s 76us/step - loss: 36.1400 - val_loss: 36.1350\n"
     ]
    },
    {
     "data": {
      "text/plain": [
       "<tensorflow.python.keras.callbacks.History at 0x17a5651a358>"
      ]
     },
     "execution_count": 4,
     "metadata": {},
     "output_type": "execute_result"
    }
   ],
   "source": [
    "auto_encoder = keras.Sequential()\n",
    "# encoder\n",
    "auto_encoder.add(keras.layers.Conv2D(filters=16, kernel_size=(3,3), activation='relu',  padding='same', input_shape=(28,28,1)))\n",
    "auto_encoder.add(keras.layers.MaxPool2D((2,2), padding='same'))\n",
    "auto_encoder.add(keras.layers.Conv2D(filters=8, kernel_size=(3,3), activation='relu',  padding='same'))\n",
    "auto_encoder.add(keras.layers.MaxPool2D((2,2), padding='same'))\n",
    "auto_encoder.add(keras.layers.Conv2D(filters=8, kernel_size=(3,3), activation='relu',  padding='same'))\n",
    "auto_encoder.add(keras.layers.MaxPool2D((2,2), padding='same'))\n",
    "\n",
    "#decoder\n",
    "auto_encoder.add(keras.layers.Conv2D(filters=8, kernel_size= (3,3), activation= 'relu', padding='same'))\n",
    "auto_encoder.add(keras.layers.UpSampling2D((2,2)))\n",
    "auto_encoder.add(keras.layers.Conv2D(filters=8, kernel_size= (3,3), activation= 'relu', padding='same'))\n",
    "auto_encoder.add(keras.layers.UpSampling2D((2,2)))\n",
    "auto_encoder.add(keras.layers.Conv2D(filters=16, kernel_size= (3,3), activation= 'relu'))\n",
    "auto_encoder.add(keras.layers.UpSampling2D((2,2)))\n",
    "auto_encoder.add(keras.layers.Conv2D(filters=1, kernel_size= (3,3), activation= 'sigmoid', padding='same'))\n",
    "auto_encoder.compile(optimizer='adadelta', loss='binary_crossentropy')\n",
    "auto_encoder.fit(x_train, x_train, epochs=50, batch_size=128, validation_data=(x_test, x_test), shuffle=True)"
   ]
  },
  {
   "cell_type": "code",
   "execution_count": 5,
   "metadata": {},
   "outputs": [
    {
     "data": {
      "image/png": "[encoded data removed]",
      "text/plain": [
       "<matplotlib.figure.Figure at 0x17a562ae438>"
      ]
     },
     "metadata": {},
     "output_type": "display_data"
    }
   ],
   "source": [
    "decoded = auto_encoder.predict(x_test)\n",
    "n = 5\n",
    "for i in range(n):\n",
    "    ax = plt.subplot(2, n, i+1)\n",
    "    plt.imshow(x_test[i].reshape(28,28))\n",
    "    ax.get_xaxis().set_visible(False)\n",
    "    ax.get_yaxis().set_visible(False)\n",
    "    \n",
    "    ax = plt.subplot(2, n, i+1+n)\n",
    "    plt.imshow(decoded[i].reshape(28,28))\n",
    "    ax.get_xaxis().set_visible(False)\n",
    "    ax.get_yaxis().set_visible(False)\n",
    "plt.show()\n",
    "\n"
   ]
  },
  {
   "cell_type": "markdown",
   "metadata": {},
   "source": [
    "# 2.1 DCNN"
   ]
  },
  {
   "cell_type": "code",
   "execution_count": 6,
   "metadata": {},
   "outputs": [
    {
     "name": "stdout",
     "output_type": "stream",
     "text": [
      "_________________________________________________________________\n",
      "Layer (type)                 Output Shape              Param #   \n",
      "=================================================================\n",
      "conv2d_7 (Conv2D)            (None, 26, 26, 32)        320       \n",
      "_________________________________________________________________\n",
      "max_pooling2d_3 (MaxPooling2 (None, 13, 13, 32)        0         \n",
      "_________________________________________________________________\n",
      "conv2d_8 (Conv2D)            (None, 11, 11, 32)        9248      \n",
      "_________________________________________________________________\n",
      "max_pooling2d_4 (MaxPooling2 (None, 5, 5, 32)          0         \n",
      "_________________________________________________________________\n",
      "conv2d_9 (Conv2D)            (None, 3, 3, 32)          9248      \n",
      "_________________________________________________________________\n",
      "max_pooling2d_5 (MaxPooling2 (None, 1, 1, 32)          0         \n",
      "_________________________________________________________________\n",
      "dropout (Dropout)            (None, 1, 1, 32)          0         \n",
      "_________________________________________________________________\n",
      "flatten (Flatten)            (None, 32)                0         \n",
      "_________________________________________________________________\n",
      "dense (Dense)                (None, 256)               8448      \n",
      "_________________________________________________________________\n",
      "dense_1 (Dense)              (None, 10)                2570      \n",
      "_________________________________________________________________\n",
      "activation (Activation)      (None, 10)                0         \n",
      "=================================================================\n",
      "Total params: 29,834\n",
      "Trainable params: 29,834\n",
      "Non-trainable params: 0\n",
      "_________________________________________________________________\n"
     ]
    }
   ],
   "source": [
    "dcnn = keras.Sequential()\n",
    "dcnn.add(keras.layers.Conv2D(filters=32, kernel_size=(3,3), activation='relu', padding='valid', strides=(1,1), input_shape=(28,28,1)))\n",
    "dcnn.add(keras.layers.MaxPool2D((2,2)))\n",
    "dcnn.add(keras.layers.Conv2D(filters=32, kernel_size=(3,3), activation='relu', padding='valid', strides=(1,1)))\n",
    "dcnn.add(keras.layers.MaxPool2D((2,2)))\n",
    "dcnn.add(keras.layers.Conv2D(filters=32, kernel_size=(3,3), activation='relu', padding='valid', strides=(1,1)))\n",
    "dcnn.add(keras.layers.MaxPool2D((2,2)))\n",
    "dcnn.add(keras.layers.Dropout(0.25))\n",
    "dcnn.add(keras.layers.Flatten())\n",
    "dcnn.add(keras.layers.Dense(256))\n",
    "dcnn.add(keras.layers.Dense(10))\n",
    "dcnn.add(keras.layers.Activation('softmax'))\n",
    "dcnn.summary()"
   ]
  },
  {
   "cell_type": "code",
   "execution_count": 7,
   "metadata": {},
   "outputs": [
    {
     "name": "stdout",
     "output_type": "stream",
     "text": [
      "Train on 60000 samples, validate on 10000 samples\n",
      "Epoch 1/10\n",
      "60000/60000 [==============================] - 13s 212us/step - loss: 0.7287 - acc: 0.7294 - val_loss: 0.5281 - val_acc: 0.8103\n",
      "Epoch 2/10\n",
      "60000/60000 [==============================] - 13s 218us/step - loss: 0.5200 - acc: 0.8117 - val_loss: 0.4406 - val_acc: 0.8419\n",
      "Epoch 3/10\n",
      "60000/60000 [==============================] - 13s 214us/step - loss: 0.4560 - acc: 0.8347 - val_loss: 0.4051 - val_acc: 0.8538\n",
      "Epoch 4/10\n",
      "60000/60000 [==============================] - 13s 216us/step - loss: 0.4216 - acc: 0.8477 - val_loss: 0.3996 - val_acc: 0.8566\n",
      "Epoch 5/10\n",
      "60000/60000 [==============================] - 13s 216us/step - loss: 0.3969 - acc: 0.8552 - val_loss: 0.3944 - val_acc: 0.8596\n",
      "Epoch 6/10\n",
      "60000/60000 [==============================] - 13s 215us/step - loss: 0.3811 - acc: 0.8632 - val_loss: 0.3832 - val_acc: 0.8568\n",
      "Epoch 7/10\n",
      "60000/60000 [==============================] - 13s 216us/step - loss: 0.3686 - acc: 0.8665 - val_loss: 0.3652 - val_acc: 0.8656\n",
      "Epoch 8/10\n",
      "60000/60000 [==============================] - 13s 215us/step - loss: 0.3552 - acc: 0.8705 - val_loss: 0.3478 - val_acc: 0.8695\n",
      "Epoch 9/10\n",
      "60000/60000 [==============================] - 13s 218us/step - loss: 0.3473 - acc: 0.8721 - val_loss: 0.3600 - val_acc: 0.8702\n",
      "Epoch 10/10\n",
      "60000/60000 [==============================] - 13s 214us/step - loss: 0.3392 - acc: 0.8744 - val_loss: 0.3568 - val_acc: 0.8744\n"
     ]
    },
    {
     "data": {
      "text/plain": [
       "<tensorflow.python.keras.callbacks.History at 0x17a34a39828>"
      ]
     },
     "execution_count": 7,
     "metadata": {},
     "output_type": "execute_result"
    }
   ],
   "source": [
    "dcnn.compile(loss='categorical_crossentropy', optimizer='adam',metrics=['accuracy'])\n",
    "dcnn.fit(x_train, label_train, epochs=10, shuffle=True, validation_data=(x_test, label_test))"
   ]
  },
  {
   "cell_type": "markdown",
   "metadata": {},
   "source": [
    "training set accuracy: 0.8763     \n",
    "test set accuracy: 0.8707"
   ]
  },
  {
   "cell_type": "markdown",
   "metadata": {},
   "source": [
    "# 2.2 Transfer Learning"
   ]
  },
  {
   "cell_type": "code",
   "execution_count": 9,
   "metadata": {},
   "outputs": [
    {
     "name": "stdout",
     "output_type": "stream",
     "text": [
      "Train on 42000 samples, validate on 18000 samples\n",
      "Epoch 1/10\n",
      "42000/42000 [==============================] - 25s 605us/step - loss: 0.8292 - acc: 0.7092 - val_loss: 0.5732 - val_acc: 0.7974\n",
      "Epoch 2/10\n",
      "42000/42000 [==============================] - 25s 585us/step - loss: 0.5760 - acc: 0.7965 - val_loss: 0.5141 - val_acc: 0.8141\n",
      "Epoch 3/10\n",
      "42000/42000 [==============================] - 25s 587us/step - loss: 0.5241 - acc: 0.8127 - val_loss: 0.4763 - val_acc: 0.8248\n",
      "Epoch 4/10\n",
      "42000/42000 [==============================] - 25s 588us/step - loss: 0.4948 - acc: 0.8234 - val_loss: 0.4558 - val_acc: 0.8341\n",
      "Epoch 5/10\n",
      "42000/42000 [==============================] - 25s 588us/step - loss: 0.4739 - acc: 0.8297 - val_loss: 0.4524 - val_acc: 0.8348\n",
      "Epoch 6/10\n",
      "42000/42000 [==============================] - 25s 589us/step - loss: 0.4604 - acc: 0.8332 - val_loss: 0.4456 - val_acc: 0.8350\n",
      "Epoch 7/10\n",
      "42000/42000 [==============================] - 25s 594us/step - loss: 0.4497 - acc: 0.8355 - val_loss: 0.4305 - val_acc: 0.8411\n",
      "Epoch 8/10\n",
      "42000/42000 [==============================] - 26s 608us/step - loss: 0.4355 - acc: 0.8413 - val_loss: 0.4205 - val_acc: 0.8446\n",
      "Epoch 9/10\n",
      "42000/42000 [==============================] - 26s 609us/step - loss: 0.4281 - acc: 0.8434 - val_loss: 0.4119 - val_acc: 0.8476\n",
      "Epoch 10/10\n",
      "42000/42000 [==============================] - 25s 602us/step - loss: 0.4191 - acc: 0.8476 - val_loss: 0.4146 - val_acc: 0.8479\n"
     ]
    },
    {
     "data": {
      "text/plain": [
       "<tensorflow.python.keras.callbacks.History at 0x17a62d485f8>"
      ]
     },
     "execution_count": 9,
     "metadata": {},
     "output_type": "execute_result"
    }
   ],
   "source": [
    "from tensorflow.python.keras.applications import VGG16\n",
    "from tensorflow.python.keras.preprocessing.image import img_to_array, array_to_img\n",
    "\n",
    "(x_train, label_train), (x_test, label_test) = mnist.load_data()\n",
    "label_train = np_utils.to_categorical(label_train, 10) \n",
    "label_test = np_utils.to_categorical(label_test, 10)\n",
    "\n",
    "train_X=np.dstack([x_train]*3)\n",
    "test_X=np.dstack([x_test]*3)\n",
    "\n",
    "train_X = train_X.reshape(-1, 28,28,3)\n",
    "test_X= test_X.reshape (-1,28,28,3)\n",
    "\n",
    "train_X = np.asarray([img_to_array(array_to_img(im, scale=False).resize((48,48))) for im in train_X])/255.\n",
    "test_X = np.asarray([img_to_array(array_to_img(im, scale=False).resize((48,48))) for im in test_X])/255.\n",
    "\n",
    "vgg_base = VGG16(weights=\"imagenet\",include_top=False,input_shape=(48,48,3))\n",
    "vgg_base.trainable = False\n",
    "transfer_model = keras.Sequential()\n",
    "transfer_model.add(vgg_base)\n",
    "transfer_model.add(keras.layers.Flatten())\n",
    "transfer_model.add(keras.layers.Dense(256, activation='relu'))\n",
    "transfer_model.add(keras.layers.Dropout(0.5))\n",
    "transfer_model.add(keras.layers.Dense(10, activation='softmax'))\n",
    "\n",
    "transfer_model.compile(loss=\"categorical_crossentropy\", optimizer=\"adam\", metrics=[\"acc\"])\n",
    "transfer_model.fit(train_X, label_train, epochs=10, validation_split=0.3, batch_size=128)"
   ]
  },
  {
   "cell_type": "code",
   "execution_count": 10,
   "metadata": {},
   "outputs": [
    {
     "name": "stdout",
     "output_type": "stream",
     "text": [
      "10000/10000 [==============================] - 7s 689us/step\n",
      "Test loss: 0.43680394361019137\n",
      "Test accuracy: 0.8448\n"
     ]
    }
   ],
   "source": [
    "test_score = transfer_model.evaluate(test_X, label_test)\n",
    "print('Test loss:', test_score[0])\n",
    "print('Test accuracy:', test_score[1])"
   ]
  },
  {
   "cell_type": "markdown",
   "metadata": {},
   "source": [
    "# 3 Text Classification"
   ]
  },
  {
   "cell_type": "code",
   "execution_count": 15,
   "metadata": {},
   "outputs": [
    {
     "name": "stderr",
     "output_type": "stream",
     "text": [
      "Using TensorFlow backend.\n"
     ]
    }
   ],
   "source": [
    "import pandas as pd\n",
    "import nltk\n",
    "from sklearn.metrics import roc_auc_score\n",
    "from keras.preprocessing.text import Tokenizer\n",
    "from keras.preprocessing.sequence import pad_sequences"
   ]
  },
  {
   "cell_type": "code",
   "execution_count": 16,
   "metadata": {},
   "outputs": [
    {
     "data": {
      "text/html": [
       "<div>\n",
       "<style>\n",
       "    .dataframe thead tr:only-child th {\n",
       "        text-align: right;\n",
       "    }\n",
       "\n",
       "    .dataframe thead th {\n",
       "        text-align: left;\n",
       "    }\n",
       "\n",
       "    .dataframe tbody tr th {\n",
       "        vertical-align: top;\n",
       "    }\n",
       "</style>\n",
       "<table border=\"1\" class=\"dataframe\">\n",
       "  <thead>\n",
       "    <tr style=\"text-align: right;\">\n",
       "      <th></th>\n",
       "      <th>id</th>\n",
       "      <th>tweet</th>\n",
       "      <th>k1</th>\n",
       "      <th>k2</th>\n",
       "      <th>k3</th>\n",
       "      <th>k4</th>\n",
       "      <th>k5</th>\n",
       "      <th>k6</th>\n",
       "      <th>k7</th>\n",
       "      <th>k8</th>\n",
       "      <th>k9</th>\n",
       "      <th>k10</th>\n",
       "      <th>k11</th>\n",
       "      <th>k12</th>\n",
       "      <th>k13</th>\n",
       "      <th>k14</th>\n",
       "      <th>k15</th>\n",
       "    </tr>\n",
       "  </thead>\n",
       "  <tbody>\n",
       "    <tr>\n",
       "      <th>0</th>\n",
       "      <td>1</td>\n",
       "      <td>Jazz for a Rainy Afternoon:  {link}</td>\n",
       "      <td>0.0</td>\n",
       "      <td>0.0</td>\n",
       "      <td>0.0</td>\n",
       "      <td>0.0</td>\n",
       "      <td>0.0</td>\n",
       "      <td>0.0</td>\n",
       "      <td>0.000</td>\n",
       "      <td>0.0</td>\n",
       "      <td>0.000</td>\n",
       "      <td>1.0</td>\n",
       "      <td>0.0</td>\n",
       "      <td>0.0</td>\n",
       "      <td>0.000</td>\n",
       "      <td>0.0</td>\n",
       "      <td>0.0</td>\n",
       "    </tr>\n",
       "    <tr>\n",
       "      <th>1</th>\n",
       "      <td>2</td>\n",
       "      <td>RT: @mention: I love rainy days.</td>\n",
       "      <td>0.0</td>\n",
       "      <td>0.0</td>\n",
       "      <td>0.0</td>\n",
       "      <td>0.0</td>\n",
       "      <td>0.0</td>\n",
       "      <td>0.0</td>\n",
       "      <td>0.000</td>\n",
       "      <td>0.0</td>\n",
       "      <td>0.000</td>\n",
       "      <td>1.0</td>\n",
       "      <td>0.0</td>\n",
       "      <td>0.0</td>\n",
       "      <td>0.000</td>\n",
       "      <td>0.0</td>\n",
       "      <td>0.0</td>\n",
       "    </tr>\n",
       "    <tr>\n",
       "      <th>2</th>\n",
       "      <td>3</td>\n",
       "      <td>Good Morning Chicago! Time to kick the Windy C...</td>\n",
       "      <td>0.0</td>\n",
       "      <td>0.0</td>\n",
       "      <td>0.0</td>\n",
       "      <td>0.0</td>\n",
       "      <td>0.0</td>\n",
       "      <td>0.0</td>\n",
       "      <td>1.000</td>\n",
       "      <td>0.0</td>\n",
       "      <td>0.000</td>\n",
       "      <td>0.0</td>\n",
       "      <td>0.0</td>\n",
       "      <td>0.0</td>\n",
       "      <td>0.000</td>\n",
       "      <td>0.0</td>\n",
       "      <td>0.0</td>\n",
       "    </tr>\n",
       "    <tr>\n",
       "      <th>3</th>\n",
       "      <td>6</td>\n",
       "      <td>Preach lol! :) RT @mention: #alliwantis this t...</td>\n",
       "      <td>0.0</td>\n",
       "      <td>0.0</td>\n",
       "      <td>0.0</td>\n",
       "      <td>0.0</td>\n",
       "      <td>0.0</td>\n",
       "      <td>0.0</td>\n",
       "      <td>0.604</td>\n",
       "      <td>0.0</td>\n",
       "      <td>0.196</td>\n",
       "      <td>0.0</td>\n",
       "      <td>0.0</td>\n",
       "      <td>0.0</td>\n",
       "      <td>0.201</td>\n",
       "      <td>0.0</td>\n",
       "      <td>0.0</td>\n",
       "    </tr>\n",
       "    <tr>\n",
       "      <th>4</th>\n",
       "      <td>9</td>\n",
       "      <td>@mention good morning sunshine</td>\n",
       "      <td>0.0</td>\n",
       "      <td>0.0</td>\n",
       "      <td>0.0</td>\n",
       "      <td>0.0</td>\n",
       "      <td>0.0</td>\n",
       "      <td>0.0</td>\n",
       "      <td>0.000</td>\n",
       "      <td>0.0</td>\n",
       "      <td>0.000</td>\n",
       "      <td>0.0</td>\n",
       "      <td>0.0</td>\n",
       "      <td>0.0</td>\n",
       "      <td>1.000</td>\n",
       "      <td>0.0</td>\n",
       "      <td>0.0</td>\n",
       "    </tr>\n",
       "  </tbody>\n",
       "</table>\n",
       "</div>"
      ],
      "text/plain": [
       "   id                                              tweet   k1   k2   k3   k4  \\\n",
       "0   1                Jazz for a Rainy Afternoon:  {link}  0.0  0.0  0.0  0.0   \n",
       "1   2                   RT: @mention: I love rainy days.  0.0  0.0  0.0  0.0   \n",
       "2   3  Good Morning Chicago! Time to kick the Windy C...  0.0  0.0  0.0  0.0   \n",
       "3   6  Preach lol! :) RT @mention: #alliwantis this t...  0.0  0.0  0.0  0.0   \n",
       "4   9                     @mention good morning sunshine  0.0  0.0  0.0  0.0   \n",
       "\n",
       "    k5   k6     k7   k8     k9  k10  k11  k12    k13  k14  k15  \n",
       "0  0.0  0.0  0.000  0.0  0.000  1.0  0.0  0.0  0.000  0.0  0.0  \n",
       "1  0.0  0.0  0.000  0.0  0.000  1.0  0.0  0.0  0.000  0.0  0.0  \n",
       "2  0.0  0.0  1.000  0.0  0.000  0.0  0.0  0.0  0.000  0.0  0.0  \n",
       "3  0.0  0.0  0.604  0.0  0.196  0.0  0.0  0.0  0.201  0.0  0.0  \n",
       "4  0.0  0.0  0.000  0.0  0.000  0.0  0.0  0.0  1.000  0.0  0.0  "
      ]
     },
     "execution_count": 16,
     "metadata": {},
     "output_type": "execute_result"
    }
   ],
   "source": [
    "twitter_data = pd.read_csv('./twitter-data/tweets_with_labels.csv', sep='\\t')\n",
    "twitter_data.head()"
   ]
  },
  {
   "cell_type": "code",
   "execution_count": 23,
   "metadata": {},
   "outputs": [
    {
     "data": {
      "text/html": [
       "<div>\n",
       "<style>\n",
       "    .dataframe thead tr:only-child th {\n",
       "        text-align: right;\n",
       "    }\n",
       "\n",
       "    .dataframe thead th {\n",
       "        text-align: left;\n",
       "    }\n",
       "\n",
       "    .dataframe tbody tr th {\n",
       "        vertical-align: top;\n",
       "    }\n",
       "</style>\n",
       "<table border=\"1\" class=\"dataframe\">\n",
       "  <thead>\n",
       "    <tr style=\"text-align: right;\">\n",
       "      <th></th>\n",
       "      <th>id</th>\n",
       "      <th>tweet</th>\n",
       "      <th>k1</th>\n",
       "      <th>k2</th>\n",
       "      <th>k3</th>\n",
       "      <th>k4</th>\n",
       "      <th>k5</th>\n",
       "      <th>k6</th>\n",
       "      <th>k7</th>\n",
       "      <th>k8</th>\n",
       "      <th>k9</th>\n",
       "      <th>k10</th>\n",
       "      <th>k11</th>\n",
       "      <th>k12</th>\n",
       "      <th>k13</th>\n",
       "      <th>k14</th>\n",
       "      <th>k15</th>\n",
       "      <th>tweet_clean</th>\n",
       "    </tr>\n",
       "  </thead>\n",
       "  <tbody>\n",
       "    <tr>\n",
       "      <th>0</th>\n",
       "      <td>1</td>\n",
       "      <td>Jazz for a Rainy Afternoon:  {link}</td>\n",
       "      <td>0.0</td>\n",
       "      <td>0.0</td>\n",
       "      <td>0.0</td>\n",
       "      <td>0.0</td>\n",
       "      <td>0.0</td>\n",
       "      <td>0.0</td>\n",
       "      <td>0.000</td>\n",
       "      <td>0.0</td>\n",
       "      <td>0.000</td>\n",
       "      <td>1.0</td>\n",
       "      <td>0.0</td>\n",
       "      <td>0.0</td>\n",
       "      <td>0.000</td>\n",
       "      <td>0.0</td>\n",
       "      <td>0.0</td>\n",
       "      <td>Jazz for a Rainy Afternoon : link }</td>\n",
       "    </tr>\n",
       "    <tr>\n",
       "      <th>1</th>\n",
       "      <td>2</td>\n",
       "      <td>RT: @mention: I love rainy days.</td>\n",
       "      <td>0.0</td>\n",
       "      <td>0.0</td>\n",
       "      <td>0.0</td>\n",
       "      <td>0.0</td>\n",
       "      <td>0.0</td>\n",
       "      <td>0.0</td>\n",
       "      <td>0.000</td>\n",
       "      <td>0.0</td>\n",
       "      <td>0.000</td>\n",
       "      <td>1.0</td>\n",
       "      <td>0.0</td>\n",
       "      <td>0.0</td>\n",
       "      <td>0.000</td>\n",
       "      <td>0.0</td>\n",
       "      <td>0.0</td>\n",
       "      <td>RT : : I love rainy days .</td>\n",
       "    </tr>\n",
       "    <tr>\n",
       "      <th>2</th>\n",
       "      <td>3</td>\n",
       "      <td>Good Morning Chicago! Time to kick the Windy C...</td>\n",
       "      <td>0.0</td>\n",
       "      <td>0.0</td>\n",
       "      <td>0.0</td>\n",
       "      <td>0.0</td>\n",
       "      <td>0.0</td>\n",
       "      <td>0.0</td>\n",
       "      <td>1.000</td>\n",
       "      <td>0.0</td>\n",
       "      <td>0.000</td>\n",
       "      <td>0.0</td>\n",
       "      <td>0.0</td>\n",
       "      <td>0.0</td>\n",
       "      <td>0.000</td>\n",
       "      <td>0.0</td>\n",
       "      <td>0.0</td>\n",
       "      <td>Good Morning Chicago ! Time to kick the Windy ...</td>\n",
       "    </tr>\n",
       "    <tr>\n",
       "      <th>3</th>\n",
       "      <td>6</td>\n",
       "      <td>Preach lol! :) RT @mention: #alliwantis this t...</td>\n",
       "      <td>0.0</td>\n",
       "      <td>0.0</td>\n",
       "      <td>0.0</td>\n",
       "      <td>0.0</td>\n",
       "      <td>0.0</td>\n",
       "      <td>0.0</td>\n",
       "      <td>0.604</td>\n",
       "      <td>0.0</td>\n",
       "      <td>0.196</td>\n",
       "      <td>0.0</td>\n",
       "      <td>0.0</td>\n",
       "      <td>0.0</td>\n",
       "      <td>0.201</td>\n",
       "      <td>0.0</td>\n",
       "      <td>0.0</td>\n",
       "      <td>Preach lol ! :) RT : this type of weather all ...</td>\n",
       "    </tr>\n",
       "    <tr>\n",
       "      <th>4</th>\n",
       "      <td>9</td>\n",
       "      <td>@mention good morning sunshine</td>\n",
       "      <td>0.0</td>\n",
       "      <td>0.0</td>\n",
       "      <td>0.0</td>\n",
       "      <td>0.0</td>\n",
       "      <td>0.0</td>\n",
       "      <td>0.0</td>\n",
       "      <td>0.000</td>\n",
       "      <td>0.0</td>\n",
       "      <td>0.000</td>\n",
       "      <td>0.0</td>\n",
       "      <td>0.0</td>\n",
       "      <td>0.0</td>\n",
       "      <td>1.000</td>\n",
       "      <td>0.0</td>\n",
       "      <td>0.0</td>\n",
       "      <td>good morning sunshine</td>\n",
       "    </tr>\n",
       "  </tbody>\n",
       "</table>\n",
       "</div>"
      ],
      "text/plain": [
       "   id                                              tweet   k1   k2   k3   k4  \\\n",
       "0   1                Jazz for a Rainy Afternoon:  {link}  0.0  0.0  0.0  0.0   \n",
       "1   2                   RT: @mention: I love rainy days.  0.0  0.0  0.0  0.0   \n",
       "2   3  Good Morning Chicago! Time to kick the Windy C...  0.0  0.0  0.0  0.0   \n",
       "3   6  Preach lol! :) RT @mention: #alliwantis this t...  0.0  0.0  0.0  0.0   \n",
       "4   9                     @mention good morning sunshine  0.0  0.0  0.0  0.0   \n",
       "\n",
       "    k5   k6     k7   k8     k9  k10  k11  k12    k13  k14  k15  \\\n",
       "0  0.0  0.0  0.000  0.0  0.000  1.0  0.0  0.0  0.000  0.0  0.0   \n",
       "1  0.0  0.0  0.000  0.0  0.000  1.0  0.0  0.0  0.000  0.0  0.0   \n",
       "2  0.0  0.0  1.000  0.0  0.000  0.0  0.0  0.0  0.000  0.0  0.0   \n",
       "3  0.0  0.0  0.604  0.0  0.196  0.0  0.0  0.0  0.201  0.0  0.0   \n",
       "4  0.0  0.0  0.000  0.0  0.000  0.0  0.0  0.0  1.000  0.0  0.0   \n",
       "\n",
       "                                         tweet_clean  \n",
       "0                Jazz for a Rainy Afternoon : link }  \n",
       "1                         RT : : I love rainy days .  \n",
       "2  Good Morning Chicago ! Time to kick the Windy ...  \n",
       "3  Preach lol ! :) RT : this type of weather all ...  \n",
       "4                              good morning sunshine  "
      ]
     },
     "execution_count": 23,
     "metadata": {},
     "output_type": "execute_result"
    }
   ],
   "source": [
    "import string\n",
    "def preprocess(tweets):\n",
    "    res = []\n",
    "    \n",
    "    for tweet in tweets:\n",
    "        tokens = nltk.casual_tokenize(tweet)\n",
    "        tks = []\n",
    "        for term in tokens:\n",
    "            if term.startswith('{') or term.startswith('@') or term.startswith('#'):\n",
    "                continue\n",
    "            else:\n",
    "                tks.append(term)\n",
    "        sentence = ' '.join(tks)\n",
    "        res.append(sentence)\n",
    "    return res\n",
    "\n",
    "twitter_data['tweet_clean'] = preprocess(twitter_data['tweet'])\n",
    "twitter_clean = twitter_data[twitter_data['tweet_clean']!='']\n",
    "twitter_clean.head(5)"
   ]
  },
  {
   "cell_type": "code",
   "execution_count": 26,
   "metadata": {},
   "outputs": [],
   "source": [
    "from sklearn.model_selection import train_test_split\n",
    "train_set = twitter_clean['tweet_clean']\n",
    "labels = twitter_clean.iloc[:,2:-1].values\n",
    "x_train, x_test, label_train,label_test = train_test_split(train_set,labels,test_size=0.2,random_state=16)\n",
    "\n",
    "tokenizer = Tokenizer(num_words=150)\n",
    "tokenizer.fit_on_texts(x_train)\n",
    "\n",
    "train_seq = tokenizer.texts_to_sequences(x_train) \n",
    "test_seq = tokenizer.texts_to_sequences(x_test)\n",
    "\n",
    "text_train = pad_sequences(train_seq,maxlen=50)\n",
    "text_test = pad_sequences(test_seq,maxlen=50)"
   ]
  },
  {
   "cell_type": "code",
   "execution_count": 32,
   "metadata": {
    "collapsed": true
   },
   "outputs": [],
   "source": [
    "from tensorflow.python.keras.callbacks import Callback\n",
    "class RocAuc(Callback):\n",
    "    def __init__(self, validation_data=()):\n",
    "        super(Callback, self).__init__()\n",
    "        self.x_val,self.y_val = validation_data\n",
    "    def on_epoch_end(self, epoch, log={}):\n",
    "        y_pred = self.model.predict(self.x_val, verbose=0)\n",
    "        score = roc_auc_score(self.y_val, y_pred)\n",
    "        print('\\n ROC_AUC - epoch:%d - score:%.4f \\n' % (epoch+1, score))\n"
   ]
  },
  {
   "cell_type": "markdown",
   "metadata": {},
   "source": [
    "## 2.1 RNN"
   ]
  },
  {
   "cell_type": "code",
   "execution_count": 36,
   "metadata": {},
   "outputs": [
    {
     "name": "stdout",
     "output_type": "stream",
     "text": [
      "Train on 62325 samples, validate on 15582 samples\n",
      "Epoch 1/10\n",
      "62325/62325 [==============================] - 82s 1ms/step - loss: 1.7795 - acc: 0.6575 - val_loss: 1.4382 - val_acc: 0.7601\n",
      "Epoch 2/10\n",
      "62325/62325 [==============================] - 83s 1ms/step - loss: 1.4459 - acc: 0.7556 - val_loss: 1.4008 - val_acc: 0.7683\n",
      "Epoch 3/10\n",
      "62325/62325 [==============================] - 81s 1ms/step - loss: 1.4156 - acc: 0.7597 - val_loss: 1.3829 - val_acc: 0.7704\n",
      "Epoch 4/10\n",
      "62325/62325 [==============================] - 82s 1ms/step - loss: 1.3995 - acc: 0.7625 - val_loss: 1.3712 - val_acc: 0.7691\n",
      "Epoch 5/10\n",
      "62325/62325 [==============================] - 83s 1ms/step - loss: 1.3885 - acc: 0.7649 - val_loss: 1.3659 - val_acc: 0.7705\n",
      "Epoch 6/10\n",
      "62325/62325 [==============================] - 83s 1ms/step - loss: 1.3796 - acc: 0.7668 - val_loss: 1.3672 - val_acc: 0.7740\n",
      "Epoch 7/10\n",
      "62325/62325 [==============================] - 82s 1ms/step - loss: 1.3731 - acc: 0.7681 - val_loss: 1.3558 - val_acc: 0.7752\n",
      "Epoch 8/10\n",
      "62325/62325 [==============================] - 82s 1ms/step - loss: 1.3673 - acc: 0.7695 - val_loss: 1.3597 - val_acc: 0.7728\n",
      "Epoch 9/10\n",
      "62325/62325 [==============================] - 80s 1ms/step - loss: 1.3619 - acc: 0.7712 - val_loss: 1.3575 - val_acc: 0.7757\n",
      "Epoch 10/10\n",
      "62325/62325 [==============================] - 82s 1ms/step - loss: 1.3581 - acc: 0.7713 - val_loss: 1.3463 - val_acc: 0.7751\n"
     ]
    }
   ],
   "source": [
    "#roc = RocAuc(validation_data=(text_test, label_test))\n",
    "rnn_model = keras.Sequential()\n",
    "rnn_model.add(keras.layers.Embedding(150,64))\n",
    "rnn_model.add(keras.layers.LSTM(32))\n",
    "rnn_model.add(keras.layers.Dense(15, activation='softmax'))\n",
    "rnn_model.compile(optimizer = 'rmsprop',loss = 'categorical_crossentropy',metrics=['acc'])\n",
    "rnn_history = rnn_model.fit(text_train,label_train,epochs = 10,validation_data = (text_test, label_test), batch_size = 64,verbose=1)"
   ]
  },
  {
   "cell_type": "code",
   "execution_count": 38,
   "metadata": {},
   "outputs": [
    {
     "name": "stdout",
     "output_type": "stream",
     "text": [
      "15582/15582 [==============================] - 9s 593us/step\n",
      "The accuracy of rnn model is:  0.775060967821592\n"
     ]
    }
   ],
   "source": [
    "rnn_loss, rnn_acc = rnn_model.evaluate(text_test, label_test)\n",
    "print('The accuracy of rnn model is: ', rnn_acc)"
   ]
  },
  {
   "cell_type": "markdown",
   "metadata": {},
   "source": [
    "## 2.2 CNN"
   ]
  },
  {
   "cell_type": "code",
   "execution_count": 39,
   "metadata": {},
   "outputs": [
    {
     "name": "stdout",
     "output_type": "stream",
     "text": [
      "Train on 62325 samples, validate on 15582 samples\n",
      "Epoch 1/10\n",
      "62325/62325 [==============================] - 6s 101us/step - loss: 1.5771 - acc: 0.7171 - val_loss: 1.3774 - val_acc: 0.7747\n",
      "Epoch 2/10\n",
      "62325/62325 [==============================] - 5s 85us/step - loss: 1.3887 - acc: 0.7682 - val_loss: 1.3596 - val_acc: 0.7747\n",
      "Epoch 3/10\n",
      "62325/62325 [==============================] - 5s 82us/step - loss: 1.3676 - acc: 0.7712 - val_loss: 1.3637 - val_acc: 0.7753\n",
      "Epoch 4/10\n",
      "62325/62325 [==============================] - 5s 85us/step - loss: 1.3542 - acc: 0.7720 - val_loss: 1.3505 - val_acc: 0.7753\n",
      "Epoch 5/10\n",
      "62325/62325 [==============================] - 5s 86us/step - loss: 1.3432 - acc: 0.7736 - val_loss: 1.3494 - val_acc: 0.7719\n",
      "Epoch 6/10\n",
      "62325/62325 [==============================] - 5s 84us/step - loss: 1.3327 - acc: 0.7763 - val_loss: 1.3480 - val_acc: 0.7763\n",
      "Epoch 7/10\n",
      "62325/62325 [==============================] - 5s 88us/step - loss: 1.3247 - acc: 0.7763 - val_loss: 1.3438 - val_acc: 0.7808\n",
      "Epoch 8/10\n",
      "62325/62325 [==============================] - 5s 88us/step - loss: 1.3178 - acc: 0.7782 - val_loss: 1.3471 - val_acc: 0.7785\n",
      "Epoch 9/10\n",
      "62325/62325 [==============================] - 5s 86us/step - loss: 1.3104 - acc: 0.7799 - val_loss: 1.3456 - val_acc: 0.7768\n",
      "Epoch 10/10\n",
      "62325/62325 [==============================] - 5s 84us/step - loss: 1.3035 - acc: 0.7792 - val_loss: 1.3515 - val_acc: 0.7769\n"
     ]
    }
   ],
   "source": [
    "cnn_model = keras.Sequential()\n",
    "cnn_model.add(keras.layers.Embedding(150,64))\n",
    "cnn_model.add(keras.layers.Conv1D(64, kernel_size = 3,padding='valid',activation='relu',strides=1))\n",
    "cnn_model.add(keras.layers.GlobalMaxPool1D())\n",
    "cnn_model.add(keras.layers.Dense(64, activation='relu'))\n",
    "cnn_model.add(keras.layers.Dense(15, activation='softmax'))\n",
    "cnn_model.compile(optimizer = 'adam', loss = 'categorical_crossentropy', metrics=['acc'])\n",
    "cnn_history = cnn_model.fit(text_train,label_train,epochs = 10,validation_data = (text_test, label_test), batch_size = 64,verbose=1)"
   ]
  },
  {
   "cell_type": "code",
   "execution_count": 40,
   "metadata": {},
   "outputs": [
    {
     "name": "stdout",
     "output_type": "stream",
     "text": [
      "15582/15582 [==============================] - 1s 77us/step\n",
      "The accuracy of rnn model is:  0.7769220896211549\n"
     ]
    }
   ],
   "source": [
    "cnn_loss, cnn_acc = cnn_model.evaluate(text_test, label_test)\n",
    "print('The accuracy of rnn model is: ', cnn_acc)"
   ]
  },
  {
   "cell_type": "markdown",
   "metadata": {},
   "source": [
    "## 3.3 Compare"
   ]
  },
  {
   "cell_type": "code",
   "execution_count": 42,
   "metadata": {},
   "outputs": [
    {
     "data": {
      "image/png": "[encoded data removed]",
      "text/plain": [
       "<matplotlib.figure.Figure at 0x17bbddc6a58>"
      ]
     },
     "metadata": {},
     "output_type": "display_data"
    }
   ],
   "source": [
    "plt.figure(figsize=(16,6))\n",
    "plt.subplot(1, 2, 1)\n",
    "plt.plot(cnn_history.history['acc'])\n",
    "plt.plot(cnn_history.history['val_acc'])\n",
    "plt.title('CNN Model Accuracy')\n",
    "plt.ylabel('Accuracy')\n",
    "plt.xlabel('Epochs')\n",
    "plt.legend(['train', 'validation'])\n",
    "\n",
    "plt.subplot(1, 2, 2)\n",
    "plt.plot(rnn_history.history['acc'])\n",
    "plt.plot(rnn_history.history['val_acc'])\n",
    "plt.title('RNN Model Accuracy')\n",
    "plt.ylabel('Accuracy')\n",
    "plt.xlabel('Epochs')\n",
    "plt.legend(['train', 'validation'])\n",
    "plt.show()"
   ]
  },
  {
   "cell_type": "code",
   "execution_count": null,
   "metadata": {
    "collapsed": true
   },
   "outputs": [],
   "source": []
  }
 ],
 "metadata": {
  "kernelspec": {
   "display_name": "Python 3",
   "language": "python",
   "name": "python3"
  },
  "language_info": {
   "codemirror_mode": {
    "name": "ipython",
    "version": 3
   },
   "file_extension": ".py",
   "mimetype": "text/x-python",
   "name": "python",
   "nbconvert_exporter": "python",
   "pygments_lexer": "ipython3",
   "version": "3.6.3"
  }
 },
 "nbformat": 4,
 "nbformat_minor": 2
}
