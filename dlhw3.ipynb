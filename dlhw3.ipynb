{
 "cells": [
  {
   "cell_type": "code",
   "execution_count": 1,
   "metadata": {},
   "outputs": [
    {
     "name": "stderr",
     "output_type": "stream",
     "text": [
      "C:\\Users\\GL62VR\\Anaconda3\\lib\\site-packages\\h5py\\__init__.py:34: FutureWarning: Conversion of the second argument of issubdtype from `float` to `np.floating` is deprecated. In future, it will be treated as `np.float64 == np.dtype(float).type`.\n",
      "  from ._conv import register_converters as _register_converters\n"
     ]
    }
   ],
   "source": [
    "import tensorflow as tf\n",
    "from tensorflow import keras\n",
    "import numpy as np\n",
    "import matplotlib.pyplot as plt\n",
    "import warnings\n",
    "warnings.filterwarnings('ignore')\n",
    "\n",
    "mnist = keras.datasets.fashion_mnist"
   ]
  },
  {
   "cell_type": "code",
   "execution_count": 2,
   "metadata": {},
   "outputs": [],
   "source": [
    "(x_train, label_train), (x_test, label_test) = mnist.load_data()"
   ]
  },
  {
   "cell_type": "markdown",
   "metadata": {},
   "source": [
    "1, Autoencoder"
   ]
  },
  {
   "cell_type": "code",
   "execution_count": 3,
   "metadata": {},
   "outputs": [
    {
     "data": {
      "image/png": "[encoded data removed]",
      "text/plain": [
       "<matplotlib.figure.Figure at 0x2e09fd25a20>"
      ]
     },
     "metadata": {},
     "output_type": "display_data"
    }
   ],
   "source": [
    "x_train = x_train.reshape(x_train.shape[0], 28, 28, 1)\n",
    "x_test = x_test.reshape(x_test.shape[0], 28, 28, 1)\n",
    "plt.imshow(x_train[0, :, :].reshape(28,28))\n",
    "plt.show()"
   ]
  },
  {
   "cell_type": "code",
   "execution_count": 4,
   "metadata": {},
   "outputs": [
    {
     "ename": "NameError",
     "evalue": "name 'Seq' is not defined",
     "output_type": "error",
     "traceback": [
      "\u001b[1;31m---------------------------------------------------------------------------\u001b[0m",
      "\u001b[1;31mNameError\u001b[0m                                 Traceback (most recent call last)",
      "\u001b[1;32m<ipython-input-4-9833751c2a0e>\u001b[0m in \u001b[0;36m<module>\u001b[1;34m()\u001b[0m\n\u001b[1;32m----> 1\u001b[1;33m \u001b[0mauto_encoder\u001b[0m \u001b[1;33m=\u001b[0m \u001b[0mSeq\u001b[0m\u001b[1;33m\u001b[0m\u001b[0m\n\u001b[0m",
      "\u001b[1;31mNameError\u001b[0m: name 'Seq' is not defined"
     ]
    }
   ],
   "source": [
    "auto_encoder = keras.Sequential()\n",
    "# encoder\n",
    "auto_encoder.add(keras.layers.Conv2D(filter=32, kernel_size=(3,3), activation='relu',  padding='same',strides=(1,1), input_shape=(28,28,1)))\n",
    "auto_encoder.add(keras.layers.MaxPool2D((2,2), padding='same'))\n",
    "auto_encoder.add(keras.layers.Conv2D(filter=32, kernel_size=(3,3), activation='relu',  padding='same',strides=(1,1)))\n",
    "auto_encoder.add(keras.layers.MaxPool2D((2,2), padding='same'))\n",
    "auto_encoder.add(keras.layers.Conv2D(filter=32, kernel_size=(3,3), activation='relu',  padding='same',strides=(1,1)))\n",
    "auto_encoder.add(keras.layers.MaxPool2D((2,2), padding='same'))\n",
    "\n",
    "#decoder\n",
    "auto_encoder.add(keras.layers.Conv2D(filters=16, kernel_size= (3,3), activation= 'relu', padding='same',strides=(1,1)))\n",
    "auto_encoder.add(keras.layers.UpSampling2D((2,2)))\n",
    "auto_encoder.add(keras.layers.Conv2D(filters=8, kernel_size= (3,3), activation= 'relu', padding='same',strides=(1,1)))\n",
    "auto_encoder.add(keras.layers.UpSampling2D((2,2)))\n",
    "auto_encoder.add(keras.layers.Conv2D(filters=8, kernel_size= (3,3), activation= 'relu',strides=(1,1)))\n",
    "auto_encoder.add(keras.layers.UpSampling2D((2,2)))\n",
    "auto_encoder.add(keras.layers.Conv2D(filters=1, kernel_size= (3,3), activation= 'sigmoid', padding='same'))\n",
    "auto_encoder.compile(optimizer='Adam', loss='binary_crossentropy')\n",
    "auto_encoder.fit(x_train, x_train, epochs=3, batch_size=256, validation_split=0.3)"
   ]
  }
 ],
 "metadata": {
  "kernelspec": {
   "display_name": "Python 3",
   "language": "python",
   "name": "python3"
  },
  "language_info": {
   "codemirror_mode": {
    "name": "ipython",
    "version": 3
   },
   "file_extension": ".py",
   "mimetype": "text/x-python",
   "name": "python",
   "nbconvert_exporter": "python",
   "pygments_lexer": "ipython3",
   "version": "3.6.3"
  }
 },
 "nbformat": 4,
 "nbformat_minor": 2
}
